{
 "cells": [
  {
   "cell_type": "code",
   "execution_count": null,
   "id": "87ae3a1e-a62d-4f1f-bb75-23b6f07c7a0d",
   "metadata": {},
   "outputs": [],
   "source": [
    "import tensorflow as tf"
   ]
  },
  {
   "cell_type": "code",
   "execution_count": 1,
   "id": "0db07a7f-7823-4d49-a15c-d23c5730cc5f",
   "metadata": {},
   "outputs": [],
   "source": [
    "def huber(y_true, y_pred, thresh=1):\n",
    "    thresh = thresh\n",
    "    error = y_true, y_pred\n",
    "    small = th.abs(error) <= thresh\n",
    "    small_loss = tf.square(error) / 2\n",
    "    large_loss = thresh*(tf.abs(error)-(0.5)*thresh)\n",
    "    return tf.where(small, small_loss, large_loss)"
   ]
  },
  {
   "cell_type": "code",
   "execution_count": null,
   "id": "a40de380-cb67-4382-b850-3d31e20956a7",
   "metadata": {},
   "outputs": [],
   "source": [
    "(x_train, y_train), (x_test), (y_test) = tf.keras.datasets.mnist.load_data()"
   ]
  }
 ],
 "metadata": {
  "kernelspec": {
   "display_name": "Python 3",
   "language": "python",
   "name": "python3"
  },
  "language_info": {
   "codemirror_mode": {
    "name": "ipython",
    "version": 3
   },
   "file_extension": ".py",
   "mimetype": "text/x-python",
   "name": "python",
   "nbconvert_exporter": "python",
   "pygments_lexer": "ipython3",
   "version": "3.9.4"
  }
 },
 "nbformat": 4,
 "nbformat_minor": 5
}
